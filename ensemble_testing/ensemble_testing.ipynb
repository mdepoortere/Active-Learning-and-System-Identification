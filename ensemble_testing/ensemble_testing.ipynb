{
 "cells": [
  {
   "cell_type": "code",
   "execution_count": 1,
   "metadata": {},
   "outputs": [],
   "source": [
    "import torch\n",
    "import torch.nn as nn\n",
    "import torch.nn.functional as F"
   ]
  },
  {
   "cell_type": "code",
   "execution_count": 44,
   "metadata": {},
   "outputs": [],
   "source": [
    "from mlutils.layers.readouts import PointPooled2d\n",
    "from mlutils.layers.cores import Stacked2dCoreDropOut\n",
    "\n",
    "import numpy as np\n",
    "import torch\n",
    "from torch import nn\n",
    "from torch.nn import functional as F\n",
    "from torch.nn import Parameter\n",
    "\n",
    "\n",
    "class Encoder(nn.Module):\n",
    "\n",
    "    def __init__(self, core, readout):\n",
    "        super().__init__()\n",
    "        self.core = core\n",
    "        self.readout = readout\n",
    "\n",
    "    @staticmethod\n",
    "    def get_readout_in_shape(core, shape):\n",
    "        train_state = core.training\n",
    "        core.eval()\n",
    "        tmp = torch.Tensor(*shape).normal_()\n",
    "        nout = core(tmp).size()[1:]\n",
    "        core.train(train_state)\n",
    "        return nout\n",
    "\n",
    "    def forward(self, x):\n",
    "        x = self.core(x)\n",
    "        x = self.readout(x)\n",
    "        return F.elu(x) + 1\n",
    "\n",
    "\n",
    "class Ensemble(nn.Module):\n",
    "    def __init__(self,train_loader, config):\n",
    "        super().__init__()\n",
    "        self.seeds = config['seeds']\n",
    "        del config['seeds']\n",
    "        self.config = config\n",
    "        self.train_loader = train_loader\n",
    "\n",
    "        self.model0 = create_model(self.train_loader, self.seeds[0],  **self.config)#.to('cuda:0')\n",
    "        self.model1 = create_model(self.train_loader, self.seeds[1], **self.config)#.to('cuda:1')\n",
    "\n",
    "    def forward(self, x):\n",
    "        out = [self.model0(x), self.model1(x)]\n",
    "        return out, torch.cat(out)\n",
    "\n",
    "    @staticmethod\n",
    "    def diff_real(preds, true):\n",
    "        return F.mse_loss(preds, true, reduction='mean')\n",
    "\n",
    "    @staticmethod\n",
    "    def variance(preds):\n",
    "        return preds.std(dim=0)\n",
    "\n",
    "\n",
    "def create_model(train_loader, seed=0, **config):\n",
    "    np.random.seed(seed)\n",
    "    in_shape = train_loader.img_shape\n",
    "    n_neurons = train_loader.n_neurons\n",
    "    transformed_mean = train_loader.transformed_mean\n",
    "    core = Stacked2dCoreDropOut(input_channels=1,\n",
    "                                hidden_channels=32,\n",
    "                                input_kern=15,\n",
    "                                hidden_kern=7,\n",
    "                                dropout_p=config['dropout_p'],\n",
    "                                layers=3,\n",
    "                                gamma_hidden=config['gamma_hidden'],\n",
    "                                gamma_input=config['gamma_input'],\n",
    "                                skip=3,\n",
    "                                final_nonlinearity=False,\n",
    "                                bias=False,\n",
    "                                momentum=0.9,\n",
    "                                pad_input=False,\n",
    "                                batch_norm=True,\n",
    "                                hidden_dilation=1,\n",
    "                                laplace_padding=0,\n",
    "                                input_regularizer=\"LaplaceL2norm\")\n",
    "    ro_in_shape = Encoder.get_readout_in_shape(core, in_shape)\n",
    "\n",
    "    readout = PointPooled2d(ro_in_shape, n_neurons,\n",
    "                            pool_steps=2, pool_kern=4,\n",
    "                            bias=True, init_range=0.2)\n",
    "\n",
    "    gamma_readout = 0.1\n",
    "\n",
    "    def regularizer():\n",
    "        return readout.feature_l1() * gamma_readout\n",
    "\n",
    "    readout.regularizer = regularizer\n",
    "\n",
    "    ## Model init\n",
    "    model = Encoder(core, readout)\n",
    "    r_mean = transformed_mean\n",
    "    model.readout.bias.data = r_mean\n",
    "    model.core.initialize()\n",
    "    model.train()\n",
    "    return model\n",
    "\n",
    "\n",
    "def create_ensemble(train_loader, **config):\n",
    "\n",
    "    ensemble = Ensemble(train_loader, config)\n",
    "\n",
    "    return ensemble"
   ]
  },
  {
   "cell_type": "code",
   "execution_count": 45,
   "metadata": {},
   "outputs": [],
   "source": [
    "from mlutils.data.datasets import StaticImageSet\n",
    "from mlutils.data.transforms import Subsample, ToTensor\n",
    "\n",
    "\n",
    "import numpy as np\n",
    "\n",
    "from torch.utils.data import DataLoader, Subset\n",
    "from torch.utils.data.sampler import SubsetRandomSampler\n",
    "def create_dataloaders(file, batch_size):\n",
    "\n",
    "    dat = StaticImageSet(file, 'images', 'responses')\n",
    "    idx = (dat.neurons.area == 'V1') & (dat.neurons.layer =='L2/3')\n",
    "    dat.transforms = [Subsample(np.where(idx)[0]), ToTensor(cuda=False)]\n",
    "    \n",
    "    train_loader = DataLoader(dat,\n",
    "                              sampler=SubsetRandomSampler(np.where(dat.tiers == 'train')[0]),\n",
    "                              batch_size=batch_size)\n",
    "    train_loader.img_shape = dat.img_shape\n",
    "    train_loader.n_neurons = dat.n_neurons\n",
    "    _, train_loader.transformed_mean = dat.transformed_mean()\n",
    "    \n",
    "    val_loader = DataLoader(dat,\n",
    "                              sampler=SubsetRandomSampler(np.where(dat.tiers == 'validation')[0]),\n",
    "                              batch_size=batch_size)\n",
    "    val_loader.img_shape = dat.img_shape\n",
    "    val_loader.n_neurons = dat.n_neurons\n",
    "\n",
    "    test_loader = DataLoader(dat,\n",
    "                              sampler=SubsetRandomSampler(np.where(dat.tiers == 'test')[0]),\n",
    "                              batch_size=batch_size)\n",
    "    \n",
    "    test_loader.img_shape = dat.img_shape\n",
    "    test_loader.n_neurons = dat.n_neurons\n",
    "    \n",
    "    loaders = {'train': train_loader, 'val': val_loader, 'test': test_loader}\n",
    "\n",
    "    return loaders"
   ]
  },
  {
   "cell_type": "code",
   "execution_count": 46,
   "metadata": {},
   "outputs": [],
   "source": [
    "model_config = dict(dropout_p=0.5, gamma_hidden=100, gamma_input=1 )\n",
    "model_config['seeds'] =[5, 6]\n",
    "\n",
    "loaders = create_dataloaders('./data/static20892-3-14-preproc0.h5', batch_size=64)"
   ]
  },
  {
   "cell_type": "code",
   "execution_count": 47,
   "metadata": {},
   "outputs": [],
   "source": [
    "ens = create_ensemble(loaders['train'], **model_config)"
   ]
  },
  {
   "cell_type": "code",
   "execution_count": 48,
   "metadata": {},
   "outputs": [],
   "source": [
    "from torch.utils.data import Dataset, DataLoader"
   ]
  },
  {
   "cell_type": "code",
   "execution_count": 49,
   "metadata": {},
   "outputs": [],
   "source": [
    "    class CatData(Dataset):\n",
    "        def __init__(self, dataset, images, responses, n_gpu):\n",
    "            super().__init__()\n",
    "            self.dataset = dataset\n",
    "            self.images = images\n",
    "            self.responses = responses\n",
    "            self.n_gpu = n_gpu\n",
    "            \n",
    "\n",
    "        def __getitem__(self, item):\n",
    "            resp = torch.stack(\n",
    "                       [torch.tensor(dat.responses[item]).to('cuda:{}'.format(i))\n",
    "                                                      for i in range(self.n_gpu)])\n",
    "            return self.images[item], resp\n",
    "        def __len__(self):\n",
    "            return self.images.size(0)"
   ]
  },
  {
   "cell_type": "code",
   "execution_count": 50,
   "metadata": {},
   "outputs": [],
   "source": [
    "dat = StaticImageSet('./data/static20892-3-14-preproc0.h5', 'images', 'responses')\n",
    "idx = (dat.neurons.area == 'V1') & (dat.neurons.layer =='L2/3')\n",
    "\n",
    "dat.transforms = [Subsample(np.where(idx)[0]), ToTensor(cuda=False)]"
   ]
  },
  {
   "cell_type": "code",
   "execution_count": 51,
   "metadata": {},
   "outputs": [],
   "source": [
    "mydat = CatData(dat, dat[()].images, dat[()].responses, 1)"
   ]
  },
  {
   "cell_type": "code",
   "execution_count": 52,
   "metadata": {},
   "outputs": [],
   "source": [
    "train_loader = DataLoader(mydat, batch_size=2)"
   ]
  },
  {
   "cell_type": "code",
   "execution_count": 53,
   "metadata": {},
   "outputs": [],
   "source": [
    "from mlutils.measures import PoissonLoss\n",
    "optimizer = torch.optim.SGD(ens.parameters(), lr=0.1)"
   ]
  },
  {
   "cell_type": "code",
   "execution_count": 75,
   "metadata": {},
   "outputs": [
    {
     "name": "stdout",
     "output_type": "stream",
     "text": [
      "torch.Size([2, 1, 36, 64])\n",
      "tensor(0.0158, grad_fn=<MeanBackward0>)\n"
     ]
    }
   ],
   "source": [
    "for batch, labels in train_loader:\n",
    "    _, echt = ens(batch)  \n",
    "    print(F.mse_loss(echt, torch.cat([sep[0], sep[1]])))\n",
    "    break"
   ]
  },
  {
   "cell_type": "code",
   "execution_count": 61,
   "metadata": {},
   "outputs": [
    {
     "data": {
      "text/plain": [
       "torch.Size([2, 8198])"
      ]
     },
     "execution_count": 61,
     "metadata": {},
     "output_type": "execute_result"
    }
   ],
   "source": [
    "sep[1].size()"
   ]
  },
  {
   "cell_type": "code",
   "execution_count": 65,
   "metadata": {},
   "outputs": [
    {
     "data": {
      "text/plain": [
       "tensor([[True, True, True,  ..., True, True, True],\n",
       "        [True, True, True,  ..., True, True, True]])"
      ]
     },
     "execution_count": 65,
     "metadata": {},
     "output_type": "execute_result"
    }
   ],
   "source": [
    "cata[:2] ==sep[0]"
   ]
  },
  {
   "cell_type": "code",
   "execution_count": 67,
   "metadata": {},
   "outputs": [],
   "source": [
    "import torch.nn.functional as F"
   ]
  },
  {
   "cell_type": "code",
   "execution_count": 70,
   "metadata": {},
   "outputs": [
    {
     "data": {
      "text/plain": [
       "tensor(0.0114, grad_fn=<MeanBackward0>)"
      ]
     },
     "execution_count": 70,
     "metadata": {},
     "output_type": "execute_result"
    }
   ],
   "source": [
    "F.mse_loss(echt, torch.cat([sep[0], sep[1]]))\n"
   ]
  },
  {
   "cell_type": "code",
   "execution_count": 72,
   "metadata": {},
   "outputs": [
    {
     "data": {
      "text/plain": [
       "tensor([[True, True, True,  ..., True, True, True],\n",
       "        [True, True, True,  ..., True, True, True],\n",
       "        [True, True, True,  ..., True, True, True],\n",
       "        [True, True, True,  ..., True, True, True]])"
      ]
     },
     "execution_count": 72,
     "metadata": {},
     "output_type": "execute_result"
    }
   ],
   "source": [
    "torch.cat([sep[0], sep[1]]) == cata"
   ]
  },
  {
   "cell_type": "code",
   "execution_count": null,
   "metadata": {},
   "outputs": [],
   "source": []
  }
 ],
 "metadata": {
  "kernelspec": {
   "display_name": "Python 3",
   "language": "python",
   "name": "python3"
  },
  "language_info": {
   "codemirror_mode": {
    "name": "ipython",
    "version": 3
   },
   "file_extension": ".py",
   "mimetype": "text/x-python",
   "name": "python",
   "nbconvert_exporter": "python",
   "pygments_lexer": "ipython3",
   "version": "3.7.5"
  }
 },
 "nbformat": 4,
 "nbformat_minor": 4
}
