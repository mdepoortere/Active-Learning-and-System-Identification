{
 "cells": [
  {
   "cell_type": "code",
   "execution_count": 1,
   "metadata": {},
   "outputs": [],
   "source": [
    "import torch\n",
    "import torch.nn as nn\n",
    "import torch.nn.functional as F"
   ]
  },
  {
   "cell_type": "code",
   "execution_count": 62,
   "metadata": {},
   "outputs": [],
   "source": [
    "from mlutils.layers.readouts import PointPooled2d\n",
    "from mlutils.layers.cores import Stacked2dCoreDropOut\n",
    "\n",
    "import numpy as np\n",
    "import torch\n",
    "from torch import nn\n",
    "from torch.nn import functional as F\n",
    "from torch.nn import Parameter\n",
    "\n",
    "\n",
    "class Encoder(nn.Module):\n",
    "\n",
    "    def __init__(self, core, readout):\n",
    "        super().__init__()\n",
    "        self.core = core\n",
    "        self.readout = readout\n",
    "\n",
    "    @staticmethod\n",
    "    def get_readout_in_shape(core, shape):\n",
    "        train_state = core.training\n",
    "        core.eval()\n",
    "        tmp = torch.Tensor(*shape).normal_()\n",
    "        nout = core(tmp).size()[1:]\n",
    "        core.train(train_state)\n",
    "        return nout\n",
    "\n",
    "    def forward(self, x):\n",
    "        x = self.core(x)\n",
    "        x = self.readout(x)\n",
    "        return F.elu(x) + 1\n",
    "\n",
    "\n",
    "class Ensemble(nn.Module):\n",
    "    def __init__(self, n_models, seeds, train_loader, config):\n",
    "        super().__init__()\n",
    "        self.n_models = n_models\n",
    "        self.seeds = seeds\n",
    "        self.models = nn.ModuleList()\n",
    "        self.config = config\n",
    "        self.train_loader = train_loader\n",
    "\n",
    "    def init_ensemble(self):\n",
    "        for rand_seed in self.seeds:\n",
    "            self.models.append(create_model(self.train_loader, rand_seed, **self.config))\n",
    "            \"\"\"for i, model in enumerate(self.models):\n",
    "                self.add_module('model_{}'.format(i), model)\"\"\"\n",
    "\n",
    "    def forward(self, x):\n",
    "        out = [model(x) for model in self.models]\n",
    "        return torch.cat(out)\n",
    "\n",
    "    @staticmethod\n",
    "    def diff_real(preds, true):\n",
    "        return F.mse_loss(preds, true, reduction='mean')\n",
    "\n",
    "    @staticmethod\n",
    "    def variance(preds):\n",
    "        return preds.std(dim=0)\n",
    "\n",
    "def create_model(train_loader, seed, **config):\n",
    "    np.random.seed(seed)\n",
    "    in_shape = train_loader.img_shape\n",
    "    n_neurons = train_loader.n_neurons\n",
    "    transformed_mean = train_loader.transformed_mean\n",
    "    core = Stacked2dCoreDropOut(input_channels=1,\n",
    "                                hidden_channels=32,\n",
    "                                input_kern=15,\n",
    "                                hidden_kern=7,\n",
    "                                dropout_p=config['dropout_p'],\n",
    "                                layers=3,\n",
    "                                gamma_hidden=config['gamma_hidden'],\n",
    "                                gamma_input=config['gamma_input'],\n",
    "                                skip=3,\n",
    "                                final_nonlinearity=False,\n",
    "                                bias=False,\n",
    "                                momentum=0.9,\n",
    "                                pad_input=False,\n",
    "                                batch_norm=True,\n",
    "                                hidden_dilation=1,\n",
    "                                laplace_padding=0,\n",
    "                                input_regularizer=\"LaplaceL2norm\")\n",
    "    ro_in_shape = Encoder.get_readout_in_shape(core, in_shape)\n",
    "\n",
    "    readout = PointPooled2d(ro_in_shape, n_neurons,\n",
    "                            pool_steps=2, pool_kern=4,\n",
    "                            bias=True, init_range=0.2)\n",
    "\n",
    "    gamma_readout = 0.1\n",
    "\n",
    "    def regularizer():\n",
    "        return readout.feature_l1() * gamma_readout\n",
    "\n",
    "    readout.regularizer = regularizer\n",
    "\n",
    "    ## Model init\n",
    "    model = Encoder(core, readout)\n",
    "    r_mean = transformed_mean\n",
    "    model.readout.bias.data = r_mean\n",
    "    model.core.initialize()\n",
    "    model.train()\n",
    "    return model\n",
    "\n",
    "\n",
    "def create_ensemble(n_models, seeds, train_loader, **config):\n",
    "\n",
    "    ensemble = Ensemble(n_models, seeds, train_loader, config)\n",
    "\n",
    "    ensemble.init_ensemble()\n",
    "\n",
    "    return ensemble"
   ]
  },
  {
   "cell_type": "code",
   "execution_count": 63,
   "metadata": {},
   "outputs": [],
   "source": [
    "from mlutils.data.datasets import StaticImageSet\n",
    "from mlutils.data.transforms import Subsample, ToTensor\n",
    "\n",
    "\n",
    "import numpy as np\n",
    "\n",
    "from torch.utils.data import DataLoader, Subset\n",
    "from torch.utils.data.sampler import SubsetRandomSampler\n",
    "def create_dataloaders(file, batch_size):\n",
    "\n",
    "    dat = StaticImageSet(file, 'images', 'responses')\n",
    "    idx = (dat.neurons.area == 'V1') & (dat.neurons.layer =='L2/3')\n",
    "    dat.transforms = [Subsample(np.where(idx)[0]), ToTensor(cuda=False)]\n",
    "    \n",
    "    train_loader = DataLoader(dat,\n",
    "                              sampler=SubsetRandomSampler(np.where(dat.tiers == 'train')[0]),\n",
    "                              batch_size=batch_size)\n",
    "    train_loader.img_shape = dat.img_shape\n",
    "    train_loader.n_neurons = dat.n_neurons\n",
    "    _, train_loader.transformed_mean = dat.transformed_mean()\n",
    "    \n",
    "    val_loader = DataLoader(dat,\n",
    "                              sampler=SubsetRandomSampler(np.where(dat.tiers == 'validation')[0]),\n",
    "                              batch_size=batch_size)\n",
    "    val_loader.img_shape = dat.img_shape\n",
    "    val_loader.n_neurons = dat.n_neurons\n",
    "\n",
    "    test_loader = DataLoader(dat,\n",
    "                              sampler=SubsetRandomSampler(np.where(dat.tiers == 'test')[0]),\n",
    "                              batch_size=batch_size)\n",
    "    \n",
    "    test_loader.img_shape = dat.img_shape\n",
    "    test_loader.n_neurons = dat.n_neurons\n",
    "    \n",
    "    loaders = {'train': train_loader, 'val': val_loader, 'test': test_loader}\n",
    "\n",
    "    return loaders"
   ]
  },
  {
   "cell_type": "code",
   "execution_count": 64,
   "metadata": {},
   "outputs": [
    {
     "name": "stderr",
     "output_type": "stream",
     "text": [
      "/Users/depoorterematthias/anaconda3/envs/deeprl/lib/python3.7/site-packages/h5py/_hl/dataset.py:313: H5pyDeprecationWarning: dataset.value has been deprecated. Use dataset[()] instead.\n",
      "  \"Use dataset[()] instead.\", H5pyDeprecationWarning)\n"
     ]
    }
   ],
   "source": [
    "model_config = dict(dropout_p=0.5, gamma_hidden=100, gamma_input=1 )\n",
    "loaders = create_dataloaders('./data/static20892-3-14-preproc0.h5', batch_size=64)"
   ]
  },
  {
   "cell_type": "code",
   "execution_count": 65,
   "metadata": {},
   "outputs": [],
   "source": [
    "ens = create_ensemble(10, range(10), loaders['train'], **model_config)"
   ]
  },
  {
   "cell_type": "code",
   "execution_count": 179,
   "metadata": {},
   "outputs": [
    {
     "name": "stdout",
     "output_type": "stream",
     "text": [
      "0\n",
      "1\n",
      "2\n",
      "3\n",
      "4\n",
      "5\n",
      "6\n",
      "7\n",
      "8\n",
      "9\n"
     ]
    }
   ],
   "source": [
    "for i,model in enumerate(ens.models):\n",
    "    print(i)"
   ]
  },
  {
   "cell_type": "code",
   "execution_count": 70,
   "metadata": {},
   "outputs": [],
   "source": [
    "x = torch.ones(64, 1, 32, 32)"
   ]
  },
  {
   "cell_type": "code",
   "execution_count": 181,
   "metadata": {},
   "outputs": [
    {
     "data": {
      "text/plain": [
       "torch.Size([640, 8198])"
      ]
     },
     "execution_count": 181,
     "metadata": {},
     "output_type": "execute_result"
    }
   ],
   "source": [
    "ens(x).size()"
   ]
  },
  {
   "cell_type": "code",
   "execution_count": 31,
   "metadata": {},
   "outputs": [
    {
     "data": {
      "text/plain": [
       "OrderedDict()"
      ]
     },
     "execution_count": 31,
     "metadata": {},
     "output_type": "execute_result"
    }
   ],
   "source": [
    "ens.state_dict()"
   ]
  },
  {
   "cell_type": "code",
   "execution_count": 123,
   "metadata": {},
   "outputs": [],
   "source": [
    "class TestNet(nn.Module):\n",
    "    def __init__(self):\n",
    "        super().__init__()\n",
    "        self.fc1 = nn.Linear(2, 1)\n",
    "        self.fc2 = nn.Linear(2, 1)\n",
    "    def forward(self, x):\n",
    "        return torch.cat([self.fc1(x), self.fc2(x)])\n",
    "    "
   ]
  },
  {
   "cell_type": "code",
   "execution_count": 124,
   "metadata": {},
   "outputs": [],
   "source": [
    "z = torch.ones(2)"
   ]
  },
  {
   "cell_type": "code",
   "execution_count": 133,
   "metadata": {},
   "outputs": [],
   "source": [
    "net = TestNet()\n",
    "net.fc2.weight = nn.Parameter(torch.zeros(1,2))\n",
    "net.fc2.bias = nn.Parameter(torch.zeros(1))\n",
    "net.fc1.weight = nn.Parameter(torch.zeros(1,2))\n",
    "net.fc1.bias = nn.Parameter(torch.ones(1))"
   ]
  },
  {
   "cell_type": "code",
   "execution_count": 135,
   "metadata": {},
   "outputs": [
    {
     "name": "stderr",
     "output_type": "stream",
     "text": [
      "/Users/depoorterematthias/anaconda3/envs/deeprl/lib/python3.7/site-packages/ipykernel_launcher.py:1: UserWarning: Using a target size (torch.Size([2, 1])) that is different to the input size (torch.Size([2])). This will likely lead to incorrect results due to broadcasting. Please ensure they have the same size.\n",
      "  \"\"\"Entry point for launching an IPython kernel.\n"
     ]
    }
   ],
   "source": [
    "F.mse_loss(net(z), torch.ones(2, 1)).backward()"
   ]
  },
  {
   "cell_type": "code",
   "execution_count": 138,
   "metadata": {},
   "outputs": [
    {
     "data": {
      "text/plain": [
       "tensor([[-1., -1.]])"
      ]
     },
     "execution_count": 138,
     "metadata": {},
     "output_type": "execute_result"
    }
   ],
   "source": [
    "net.fc2.weight.grad"
   ]
  },
  {
   "cell_type": "code",
   "execution_count": 137,
   "metadata": {},
   "outputs": [
    {
     "data": {
      "text/plain": [
       "tensor([1., 0.], grad_fn=<CatBackward>)"
      ]
     },
     "execution_count": 137,
     "metadata": {},
     "output_type": "execute_result"
    }
   ],
   "source": [
    "net(z)"
   ]
  },
  {
   "cell_type": "code",
   "execution_count": 132,
   "metadata": {},
   "outputs": [
    {
     "data": {
      "text/plain": [
       "Parameter containing:\n",
       "tensor([[0., 0.]], requires_grad=True)"
      ]
     },
     "execution_count": 132,
     "metadata": {},
     "output_type": "execute_result"
    }
   ],
   "source": [
    "net.fc2.weight"
   ]
  },
  {
   "cell_type": "code",
   "execution_count": 142,
   "metadata": {},
   "outputs": [
    {
     "data": {
      "text/plain": [
       "torch.Size([640, 3, 8, 8])"
      ]
     },
     "execution_count": 142,
     "metadata": {},
     "output_type": "execute_result"
    }
   ],
   "source": [
    "\n",
    "torch.cat([torch.ones((64, 3, 8, 8)).float()]*ens.n_models).size()"
   ]
  },
  {
   "cell_type": "code",
   "execution_count": 258,
   "metadata": {},
   "outputs": [],
   "source": [
    "    class CatData(Dataset):\n",
    "        def __init__(self, dataset, images, responses, n_models):\n",
    "            super().__init__()\n",
    "            self.dataset = dataset\n",
    "            self.images = images\n",
    "            self.responses = responses\n",
    "            self.n_models = n_models\n",
    "\n",
    "        def __getitem__(self, item):\n",
    "            return self.images[item], torch.stack([torch.tensor(dat.responses[item])] * self.n_models)\n",
    "        def __len__(self):\n",
    "            return self.images.size(0)"
   ]
  },
  {
   "cell_type": "code",
   "execution_count": 259,
   "metadata": {},
   "outputs": [],
   "source": [
    "from torch.utils.data import Dataset, DataLoader"
   ]
  },
  {
   "cell_type": "code",
   "execution_count": 260,
   "metadata": {},
   "outputs": [],
   "source": [
    "dat = StaticImageSet('./data/static20892-3-14-preproc0.h5', 'images', 'responses')\n",
    "idx = (dat.neurons.area == 'V1') & (dat.neurons.layer =='L2/3')\n",
    "\n",
    "dat.transforms = [Subsample(np.where(idx)[0]), ToTensor(cuda=False)]"
   ]
  },
  {
   "cell_type": "code",
   "execution_count": 261,
   "metadata": {},
   "outputs": [],
   "source": [
    "mydat = CatData(dat, dat[()].images, dat[()].responses, 10)"
   ]
  },
  {
   "cell_type": "code",
   "execution_count": 262,
   "metadata": {},
   "outputs": [],
   "source": [
    "train_loader = DataLoader(mydat, batch_size=2)"
   ]
  },
  {
   "cell_type": "code",
   "execution_count": 263,
   "metadata": {},
   "outputs": [],
   "source": [
    "from mlutils.measures import PoissonLoss\n",
    "optimizer = torch.optim.SGD(ens.parameters(), lr=0.1)"
   ]
  },
  {
   "cell_type": "code",
   "execution_count": 264,
   "metadata": {},
   "outputs": [],
   "source": [
    "criterion = PoissonLoss()"
   ]
  },
  {
   "cell_type": "code",
   "execution_count": 266,
   "metadata": {},
   "outputs": [
    {
     "name": "stdout",
     "output_type": "stream",
     "text": [
      "torch.Size([2, 10, 8198])\n",
      "torch.Size([20, 8198])\n",
      "torch.Size([2, 10, 8198])\n",
      "torch.Size([20, 8198])\n",
      "torch.Size([2, 10, 8198])\n",
      "torch.Size([20, 8198])\n",
      "torch.Size([2, 10, 8198])\n",
      "torch.Size([20, 8198])\n"
     ]
    },
    {
     "ename": "KeyboardInterrupt",
     "evalue": "",
     "output_type": "error",
     "traceback": [
      "\u001b[0;31m---------------------------------------------------------------------------\u001b[0m",
      "\u001b[0;31mKeyboardInterrupt\u001b[0m                         Traceback (most recent call last)",
      "\u001b[0;32m<ipython-input-266-c617b9d644a5>\u001b[0m in \u001b[0;36m<module>\u001b[0;34m\u001b[0m\n\u001b[1;32m      4\u001b[0m     \u001b[0mprint\u001b[0m\u001b[0;34m(\u001b[0m\u001b[0mens\u001b[0m\u001b[0;34m(\u001b[0m\u001b[0mimages\u001b[0m\u001b[0;34m.\u001b[0m\u001b[0mfloat\u001b[0m\u001b[0;34m(\u001b[0m\u001b[0;34m)\u001b[0m\u001b[0;34m)\u001b[0m\u001b[0;34m.\u001b[0m\u001b[0msize\u001b[0m\u001b[0;34m(\u001b[0m\u001b[0;34m)\u001b[0m\u001b[0;34m)\u001b[0m\u001b[0;34m\u001b[0m\u001b[0;34m\u001b[0m\u001b[0m\n\u001b[1;32m      5\u001b[0m     \u001b[0mloss\u001b[0m \u001b[0;34m=\u001b[0m \u001b[0mcriterion\u001b[0m\u001b[0;34m(\u001b[0m\u001b[0mens\u001b[0m\u001b[0;34m(\u001b[0m\u001b[0mimages\u001b[0m\u001b[0;34m.\u001b[0m\u001b[0mfloat\u001b[0m\u001b[0;34m(\u001b[0m\u001b[0;34m)\u001b[0m\u001b[0;34m)\u001b[0m\u001b[0;34m,\u001b[0m \u001b[0mresponses\u001b[0m\u001b[0;34m.\u001b[0m\u001b[0mview\u001b[0m\u001b[0;34m(\u001b[0m\u001b[0;36m20\u001b[0m\u001b[0;34m,\u001b[0m \u001b[0;34m-\u001b[0m\u001b[0;36m1\u001b[0m\u001b[0;34m)\u001b[0m\u001b[0;34m)\u001b[0m\u001b[0;34m\u001b[0m\u001b[0;34m\u001b[0m\u001b[0m\n\u001b[0;32m----> 6\u001b[0;31m     \u001b[0mloss\u001b[0m\u001b[0;34m.\u001b[0m\u001b[0mbackward\u001b[0m\u001b[0;34m(\u001b[0m\u001b[0;34m)\u001b[0m\u001b[0;34m\u001b[0m\u001b[0;34m\u001b[0m\u001b[0m\n\u001b[0m\u001b[1;32m      7\u001b[0m     \u001b[0moptimizer\u001b[0m\u001b[0;34m.\u001b[0m\u001b[0mstep\u001b[0m\u001b[0;34m(\u001b[0m\u001b[0;34m)\u001b[0m\u001b[0;34m\u001b[0m\u001b[0;34m\u001b[0m\u001b[0m\n",
      "\u001b[0;32m~/anaconda3/envs/deeprl/lib/python3.7/site-packages/torch/tensor.py\u001b[0m in \u001b[0;36mbackward\u001b[0;34m(self, gradient, retain_graph, create_graph)\u001b[0m\n\u001b[1;32m    164\u001b[0m                 \u001b[0mproducts\u001b[0m\u001b[0;34m.\u001b[0m \u001b[0mDefaults\u001b[0m \u001b[0mto\u001b[0m\u001b[0;31m \u001b[0m\u001b[0;31m`\u001b[0m\u001b[0;31m`\u001b[0m\u001b[0;32mFalse\u001b[0m\u001b[0;31m`\u001b[0m\u001b[0;31m`\u001b[0m\u001b[0;34m.\u001b[0m\u001b[0;34m\u001b[0m\u001b[0;34m\u001b[0m\u001b[0m\n\u001b[1;32m    165\u001b[0m         \"\"\"\n\u001b[0;32m--> 166\u001b[0;31m         \u001b[0mtorch\u001b[0m\u001b[0;34m.\u001b[0m\u001b[0mautograd\u001b[0m\u001b[0;34m.\u001b[0m\u001b[0mbackward\u001b[0m\u001b[0;34m(\u001b[0m\u001b[0mself\u001b[0m\u001b[0;34m,\u001b[0m \u001b[0mgradient\u001b[0m\u001b[0;34m,\u001b[0m \u001b[0mretain_graph\u001b[0m\u001b[0;34m,\u001b[0m \u001b[0mcreate_graph\u001b[0m\u001b[0;34m)\u001b[0m\u001b[0;34m\u001b[0m\u001b[0;34m\u001b[0m\u001b[0m\n\u001b[0m\u001b[1;32m    167\u001b[0m \u001b[0;34m\u001b[0m\u001b[0m\n\u001b[1;32m    168\u001b[0m     \u001b[0;32mdef\u001b[0m \u001b[0mregister_hook\u001b[0m\u001b[0;34m(\u001b[0m\u001b[0mself\u001b[0m\u001b[0;34m,\u001b[0m \u001b[0mhook\u001b[0m\u001b[0;34m)\u001b[0m\u001b[0;34m:\u001b[0m\u001b[0;34m\u001b[0m\u001b[0;34m\u001b[0m\u001b[0m\n",
      "\u001b[0;32m~/anaconda3/envs/deeprl/lib/python3.7/site-packages/torch/autograd/__init__.py\u001b[0m in \u001b[0;36mbackward\u001b[0;34m(tensors, grad_tensors, retain_graph, create_graph, grad_variables)\u001b[0m\n\u001b[1;32m     97\u001b[0m     Variable._execution_engine.run_backward(\n\u001b[1;32m     98\u001b[0m         \u001b[0mtensors\u001b[0m\u001b[0;34m,\u001b[0m \u001b[0mgrad_tensors\u001b[0m\u001b[0;34m,\u001b[0m \u001b[0mretain_graph\u001b[0m\u001b[0;34m,\u001b[0m \u001b[0mcreate_graph\u001b[0m\u001b[0;34m,\u001b[0m\u001b[0;34m\u001b[0m\u001b[0;34m\u001b[0m\u001b[0m\n\u001b[0;32m---> 99\u001b[0;31m         allow_unreachable=True)  # allow_unreachable flag\n\u001b[0m\u001b[1;32m    100\u001b[0m \u001b[0;34m\u001b[0m\u001b[0m\n\u001b[1;32m    101\u001b[0m \u001b[0;34m\u001b[0m\u001b[0m\n",
      "\u001b[0;31mKeyboardInterrupt\u001b[0m: "
     ]
    }
   ],
   "source": [
    "        for images, responses in train_loader:\n",
    "            optimizer.zero_grad()\n",
    "            print(responses.size())\n",
    "            print(ens(images.float()).size())\n",
    "            loss = criterion(ens(images.float()), responses.view(20, -1))\n",
    "            loss.backward()\n",
    "            optimizer.step()"
   ]
  },
  {
   "cell_type": "code",
   "execution_count": 257,
   "metadata": {},
   "outputs": [
    {
     "data": {
      "text/plain": [
       "torch.Size([10, 8198])"
      ]
     },
     "execution_count": 257,
     "metadata": {},
     "output_type": "execute_result"
    }
   ],
   "source": [
    "torch.stack([torch.tensor(dat.responses[1])] * 10).shape"
   ]
  },
  {
   "cell_type": "code",
   "execution_count": 184,
   "metadata": {},
   "outputs": [
    {
     "data": {
      "text/plain": [
       "torch.Size([10, 8198])"
      ]
     },
     "execution_count": 184,
     "metadata": {},
     "output_type": "execute_result"
    }
   ],
   "source": [
    "ens(torch.tensor(dat.images[0]).view(1, 1, 36, 64)).size()"
   ]
  },
  {
   "cell_type": "code",
   "execution_count": null,
   "metadata": {},
   "outputs": [],
   "source": []
  }
 ],
 "metadata": {
  "kernelspec": {
   "display_name": "Python 3",
   "language": "python",
   "name": "python3"
  },
  "language_info": {
   "codemirror_mode": {
    "name": "ipython",
    "version": 3
   },
   "file_extension": ".py",
   "mimetype": "text/x-python",
   "name": "python",
   "nbconvert_exporter": "python",
   "pygments_lexer": "ipython3",
   "version": "3.7.4"
  }
 },
 "nbformat": 4,
 "nbformat_minor": 2
}
