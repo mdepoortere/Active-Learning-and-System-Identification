{
 "cells": [
  {
   "cell_type": "code",
   "execution_count": 11,
   "metadata": {},
   "outputs": [
    {
     "name": "stderr",
     "output_type": "stream",
     "text": [
      "/usr/local/lib/python3.7/dist-packages/datajoint/connection.py:211: UserWarning: MySQL server has gone away. Reconnecting to the server.\n",
      "  warnings.warn(\"MySQL server has gone away. Reconnecting to the server.\")\n"
     ]
    }
   ],
   "source": [
    "import os\n",
    "import datajoint as dj\n",
    "import numpy as np\n",
    "import matplotlib.pyplot as plt\n",
    "import seaborn as sns\n",
    "dj.config['database.host'] = os.environ['DJ_HOST']\n",
    "dj.config['database.user'] = os.environ['DJ_USERNAME']\n",
    "dj.config['database.password'] = os.environ['DJ_PASSWORD']\n",
    "dj.config['enable_python_native_blobs'] = True\n",
    "schema = dj.schema('mdep_nnfabrik_mc_al', locals())\n",
    "dj.config['schema_name'] = \"mdep_nnfabrik_mc_al\"\n",
    "\n",
    "from nnfabrik.main import *\n",
    "import nnfabrik as nnf\n",
    "\n",
    "#nnf.config['repos'] = ['/notebooks/lib/nnfabrik']"
   ]
  },
  {
   "cell_type": "code",
   "execution_count": 2,
   "metadata": {},
   "outputs": [],
   "source": [
    "if dj.config['schema_name'] == \"mdep_nnfabrik_mc_al\":\n",
    "    scores_al = TrainedModel().fetch('score', order_by='trainedmodel_ts')\n",
    "    np.save('scores_al_mc', scores_al)\n",
    "elif dj.config['schema_name']== \"mdep_random_subsets_growing_mean\":\n",
    "    scores_random = TrainedModel().fetch('score', order_by='trainedmodel_ts')\n",
    "    np.save('scores_random_mc', scores_random)"
   ]
  },
  {
   "cell_type": "code",
   "execution_count": 3,
   "metadata": {},
   "outputs": [],
   "source": [
    "configs = Dataset().fetch('dataset_config', order_by='dataset_ts')"
   ]
  },
  {
   "cell_type": "code",
   "execution_count": 13,
   "metadata": {},
   "outputs": [
    {
     "data": {
      "text/plain": [
       "array([0.16558 , 0.1639  , 0.17    , 0.17798 , 0.17846 , 0.176095,\n",
       "       0.18477 , 0.186335, 0.190749, 0.191089, 0.202978, 0.190634,\n",
       "       0.197516, 0.20343 , 0.203001, 0.205888, 0.201245, 0.21315 ,\n",
       "       0.211306, 0.213732, 0.2155  , 0.212553, 0.221808, 0.21316 ,\n",
       "       0.21447 , 0.221732, 0.217024, 0.227902, 0.222446, 0.223345,\n",
       "       0.221338, 0.228868, 0.228442, 0.230792, 0.233686, 0.227599,\n",
       "       0.230516, 0.236857, 0.235459, 0.238805, 0.237637, 0.236976,\n",
       "       0.235545, 0.243162, 0.243162, 0.240108, 0.240628, 0.242907,\n",
       "       0.243717, 0.247264, 0.250339, 0.247028, 0.246137, 0.247938,\n",
       "       0.246817, 0.253463, 0.252371, 0.250796, 0.253317, 0.251365,\n",
       "       0.256285, 0.245725, 0.254136, 0.252671, 0.257096, 0.256454,\n",
       "       0.261022, 0.257574, 0.2576  , 0.259092, 0.257806, 0.258683,\n",
       "       0.260235, 0.251826, 0.261145, 0.262298, 0.266916, 0.263243,\n",
       "       0.261248, 0.264902, 0.266855, 0.264157, 0.266006, 0.268388,\n",
       "       0.267458, 0.264659, 0.267736, 0.268451, 0.268797, 0.272087,\n",
       "       0.268569, 0.271075, 0.248418, 0.271121, 0.271871, 0.270366,\n",
       "       0.273929, 0.272048, 0.273836, 0.273945, 0.2758  , 0.272595,\n",
       "       0.274921, 0.273234, 0.270428, 0.276036, 0.278668, 0.27786 ,\n",
       "       0.277749, 0.277306, 0.276408, 0.278316, 0.276793, 0.279161,\n",
       "       0.276528, 0.281066, 0.276558, 0.282334, 0.283557, 0.282099,\n",
       "       0.284446, 0.283309, 0.283234, 0.273224, 0.283974, 0.283703,\n",
       "       0.282   , 0.28118 , 0.283869, 0.281062, 0.283692, 0.28236 ,\n",
       "       0.286087, 0.28687 , 0.283507, 0.285947, 0.283884, 0.289025,\n",
       "       0.286622, 0.286866, 0.285479, 0.286615, 0.276363, 0.287773,\n",
       "       0.290058, 0.286481, 0.289326, 0.287002, 0.289503, 0.290417])"
      ]
     },
     "execution_count": 13,
     "metadata": {},
     "output_type": "execute_result"
    }
   ],
   "source": [
    "TrainedModel().fetch('score', order_by='trainedmodel_ts')"
   ]
  },
  {
   "cell_type": "code",
   "execution_count": 10,
   "metadata": {},
   "outputs": [
    {
     "data": {
      "image/png": "[encoded data removed]",
      "text/plain": [
       "<Figure size 432x288 with 1 Axes>"
      ]
     },
     "metadata": {
      "needs_background": "light"
     },
     "output_type": "display_data"
    }
   ],
   "source": [
    "scores_random = np.load('scores_random_mc.npy')\n",
    "scores_al = np.load('scores_al_mc.npy')\n",
    "plt.plot(np.linspace(477, 4000 + 477, 150), scores_random, label='random selection')\n",
    "plt.plot(np.linspace(400,4470, 205 ), scores_al, label='active selection')\n",
    "plt.xlabel('Number of selected images')\n",
    "plt.ylabel('Correlation on validation set')\n",
    "plt.legend()\n",
    "sns.despine()\n",
    "plt.savefig('al_vs_rand', dpi=300)"
   ]
  },
  {
   "cell_type": "code",
   "execution_count": 16,
   "metadata": {},
   "outputs": [
    {
     "data": {
      "text/html": [
       "\n",
       "        \n",
       "        <style type=\"text/css\">\n",
       "            .Relation{\n",
       "                border-collapse:collapse;\n",
       "            }\n",
       "            .Relation th{\n",
       "                background: #A0A0A0; color: #ffffff; padding:4px; border:#f0e0e0 1px solid;\n",
       "                font-weight: normal; font-family: monospace; font-size: 100%;\n",
       "            }\n",
       "            .Relation td{\n",
       "                padding:4px; border:#f0e0e0 1px solid; font-size:100%;\n",
       "            }\n",
       "            .Relation tr:nth-child(odd){\n",
       "                background: #ffffff;\n",
       "            }\n",
       "            .Relation tr:nth-child(even){\n",
       "                background: #f3f1ff;\n",
       "            }\n",
       "            /* Tooltip container */\n",
       "            .djtooltip {\n",
       "            }\n",
       "            /* Tooltip text */\n",
       "            .djtooltip .djtooltiptext {\n",
       "                visibility: hidden;\n",
       "                width: 120px;\n",
       "                background-color: black;\n",
       "                color: #fff;\n",
       "                text-align: center;\n",
       "                padding: 5px 0;\n",
       "                border-radius: 6px;\n",
       "                /* Position the tooltip text - see examples below! */\n",
       "                position: absolute;\n",
       "                z-index: 1;\n",
       "            }\n",
       "            #primary {\n",
       "                font-weight: bold;\n",
       "                color: black;\n",
       "            }\n",
       "\n",
       "            #nonprimary {\n",
       "                font-weight: normal;\n",
       "                color: white;\n",
       "            }\n",
       "\n",
       "            /* Show the tooltip text when you mouse over the tooltip container */\n",
       "            .djtooltip:hover .djtooltiptext {\n",
       "                visibility: visible;\n",
       "            }\n",
       "        </style>\n",
       "        \n",
       "        <b></b>\n",
       "            <div style=\"max-height:1000px;max-width:1500px;overflow:auto;\">\n",
       "            <table border=\"1\" class=\"Relation\">\n",
       "                <thead> <tr style=\"text-align: right;\"> <th> <div class=\"djtooltip\">\n",
       "                                <p id=\"primary\">configurator</p>\n",
       "                                <span class=\"djtooltiptext\">name of the configuration function</span>\n",
       "                            </div></th><th><div class=\"djtooltip\">\n",
       "                                <p id=\"primary\">config_hash</p>\n",
       "                                <span class=\"djtooltiptext\">hash of the configuration object</span>\n",
       "                            </div></th><th><div class=\"djtooltip\">\n",
       "                                <p id=\"nonprimary\">config_object</p>\n",
       "                                <span class=\"djtooltiptext\">configuration object to be passed into the function</span>\n",
       "                            </div></th><th><div class=\"djtooltip\">\n",
       "                                <p id=\"nonprimary\">model_architect</p>\n",
       "                                <span class=\"djtooltiptext\">Name of the contributor that added this entry</span>\n",
       "                            </div></th><th><div class=\"djtooltip\">\n",
       "                                <p id=\"nonprimary\">model_comment</p>\n",
       "                                <span class=\"djtooltiptext\">short description</span>\n",
       "                            </div></th><th><div class=\"djtooltip\">\n",
       "                                <p id=\"nonprimary\">model_ts</p>\n",
       "                                <span class=\"djtooltiptext\">UTZ timestamp at time of insertion</span>\n",
       "                            </div> </th> </tr> </thead>\n",
       "                <tbody> <tr> <td>nn_setup.models.create_model</td>\n",
       "<td>7da27e2a8c94922f3ac74acfdb0f1867</td>\n",
       "<td>=BLOB=</td>\n",
       "<td>Matthias Depoortere</td>\n",
       "<td>Best model hp on full dataset</td>\n",
       "<td>2020-01-09 09:51:44</td> </tr> </tbody>\n",
       "            </table>\n",
       "            \n",
       "            <p>Total: 1</p></div>\n",
       "            "
      ],
      "text/plain": [
       "*configurator  *config_hash   config_obj model_architec model_comment  model_ts      \n",
       "+------------+ +------------+ +--------+ +------------+ +------------+ +------------+\n",
       "nn_setup.model 7da27e2a8c9492 =BLOB=     Matthias Depoo Best model hp  2020-01-09 09:\n",
       " (Total: 1)"
      ]
     },
     "execution_count": 16,
     "metadata": {},
     "output_type": "execute_result"
    }
   ],
   "source": [
    "Model()"
   ]
  },
  {
   "cell_type": "code",
   "execution_count": 3,
   "metadata": {},
   "outputs": [
    {
     "data": {
      "text/plain": [
       "0.9173457627118644"
      ]
     },
     "execution_count": 3,
     "metadata": {},
     "output_type": "execute_result"
    }
   ],
   "source": [
    "0.270617/0.295"
   ]
  },
  {
   "cell_type": "code",
   "execution_count": 6,
   "metadata": {},
   "outputs": [],
   "source": [
    "import seaborn as sns"
   ]
  },
  {
   "cell_type": "code",
   "execution_count": null,
   "metadata": {},
   "outputs": [],
   "source": []
  }
 ],
 "metadata": {
  "kernelspec": {
   "display_name": "Python 3",
   "language": "python",
   "name": "python3"
  },
  "language_info": {
   "codemirror_mode": {
    "name": "ipython",
    "version": 3
   },
   "file_extension": ".py",
   "mimetype": "text/x-python",
   "name": "python",
   "nbconvert_exporter": "python",
   "pygments_lexer": "ipython3",
   "version": "3.7.5"
  }
 },
 "nbformat": 4,
 "nbformat_minor": 4
}
