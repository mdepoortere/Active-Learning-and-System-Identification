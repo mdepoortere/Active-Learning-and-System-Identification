{
 "cells": [
  {
   "cell_type": "code",
   "execution_count": 1,
   "metadata": {},
   "outputs": [
    {
     "name": "stdout",
     "output_type": "stream",
     "text": [
      "Connecting mdep@datajoint-db.mlcloud.uni-tuebingen.de:3306\n"
     ]
    }
   ],
   "source": [
    "import os\n",
    "import datajoint as dj\n",
    "import numpy as np\n",
    "import matplotlib.pyplot as plt\n",
    "import seaborn as sns\n",
    "dj.config['database.host'] = os.environ['DJ_HOST']\n",
    "dj.config['database.user'] = os.environ['DJ_USERNAME']\n",
    "dj.config['database.password'] = os.environ['DJ_PASSWORD']\n",
    "dj.config['enable_python_native_blobs'] = True\n",
    "schema = dj.schema('mdep_random_subsets_growing_mc', locals())\n",
    "dj.config['schema_name'] = \"mdep_random_subsets_growing_mc\"\n",
    "\n",
    "from nnfabrik.main import *\n",
    "import nnfabrik as nnf\n",
    "\n",
    "#nnf.config['repos'] = ['/notebooks/lib/nnfabrik']"
   ]
  },
  {
   "cell_type": "code",
   "execution_count": 2,
   "metadata": {},
   "outputs": [],
   "source": [
    "if dj.config['schema_name'] == \"mdep_nnfabrik_mc_al\":\n",
    "    scores_al = TrainedModel().fetch('score', order_by='trainedmodel_ts')\n",
    "    np.save('scores_al_mc', scores_al)\n",
    "elif dj.config['schema_name']== \"mdep_random_subsets_growing_mc\":\n",
    "    scores_random = TrainedModel().fetch('score', order_by='trainedmodel_ts')\n",
    "    np.save('scores_random_mc', scores_random)"
   ]
  },
  {
   "cell_type": "code",
   "execution_count": 4,
   "metadata": {},
   "outputs": [],
   "source": [
    "configs = Dataset().fetch('dataset_config', order_by='dataset_ts')"
   ]
  },
  {
   "cell_type": "code",
   "execution_count": 5,
   "metadata": {},
   "outputs": [
    {
     "data": {
      "text/plain": [
       "2550"
      ]
     },
     "execution_count": 5,
     "metadata": {},
     "output_type": "execute_result"
    }
   ],
   "source": [
    "configs[-1]['n_selected']"
   ]
  },
  {
   "cell_type": "code",
   "execution_count": 7,
   "metadata": {},
   "outputs": [
    {
     "data": {
      "text/plain": [
       "[<matplotlib.lines.Line2D at 0x7f3491ad6b50>]"
      ]
     },
     "execution_count": 7,
     "metadata": {},
     "output_type": "execute_result"
    },
    {
     "data": {
      "image/png": "[encoded data removed]",
      "text/plain": [
       "<Figure size 432x288 with 1 Axes>"
      ]
     },
     "metadata": {
      "needs_background": "light"
     },
     "output_type": "display_data"
    }
   ],
   "source": [
    "scores_random = np.load('scores_random_mc.npy')\n",
    "scores_al = np.load('scores_al_mc.npy')\n",
    "plt.plot(np.linspace(477, 2550 + 477, 95), scores_random)\n",
    "plt.plot(np.linspace(400,2807, 121 ), scores_al)\n"
   ]
  },
  {
   "cell_type": "code",
   "execution_count": 8,
   "metadata": {},
   "outputs": [
    {
     "data": {
      "text/plain": [
       "array([0.16113 , 0.16637 , 0.160192, 0.175713, 0.173574, 0.176632,\n",
       "       0.176277, 0.185989, 0.177942, 0.185226, 0.186465, 0.182181,\n",
       "       0.192046, 0.188714, 0.192493, 0.192184, 0.199742, 0.196714,\n",
       "       0.197312, 0.199696, 0.205127, 0.206778, 0.197929, 0.196203,\n",
       "       0.204505, 0.210047, 0.212249, 0.210867, 0.215768, 0.215044,\n",
       "       0.200752, 0.213769, 0.224871, 0.214236, 0.219382, 0.215689,\n",
       "       0.222422, 0.217307, 0.223411, 0.217416, 0.221703, 0.229569,\n",
       "       0.222474, 0.22263 , 0.227363, 0.226492, 0.232476, 0.228145,\n",
       "       0.227862, 0.233799, 0.231642, 0.232315, 0.227444, 0.233026,\n",
       "       0.232848, 0.231361, 0.235877, 0.238269, 0.232534, 0.235951,\n",
       "       0.234309, 0.230422, 0.239443, 0.238344, 0.242849, 0.238589,\n",
       "       0.237281, 0.240599, 0.242881, 0.238315, 0.242759, 0.241582,\n",
       "       0.244319, 0.243512, 0.244553, 0.243209, 0.240679, 0.24085 ,\n",
       "       0.242223, 0.247298, 0.247522, 0.250995, 0.242032, 0.249578,\n",
       "       0.24652 , 0.249313, 0.243946, 0.246037, 0.250624, 0.25062 ,\n",
       "       0.246846, 0.25233 , 0.246343, 0.252331, 0.248878])"
      ]
     },
     "execution_count": 8,
     "metadata": {},
     "output_type": "execute_result"
    }
   ],
   "source": [
    "TrainedModel().fetch('score', order_by='trainedmodel_ts')"
   ]
  },
  {
   "cell_type": "code",
   "execution_count": 3,
   "metadata": {},
   "outputs": [
    {
     "data": {
      "text/plain": [
       "0.9173457627118644"
      ]
     },
     "execution_count": 3,
     "metadata": {},
     "output_type": "execute_result"
    }
   ],
   "source": [
    "0.270617/0.295"
   ]
  },
  {
   "cell_type": "code",
   "execution_count": 3,
   "metadata": {},
   "outputs": [
    {
     "data": {
      "text/html": [
       "\n",
       "        \n",
       "        <style type=\"text/css\">\n",
       "            .Relation{\n",
       "                border-collapse:collapse;\n",
       "            }\n",
       "            .Relation th{\n",
       "                background: #A0A0A0; color: #ffffff; padding:4px; border:#f0e0e0 1px solid;\n",
       "                font-weight: normal; font-family: monospace; font-size: 100%;\n",
       "            }\n",
       "            .Relation td{\n",
       "                padding:4px; border:#f0e0e0 1px solid; font-size:100%;\n",
       "            }\n",
       "            .Relation tr:nth-child(odd){\n",
       "                background: #ffffff;\n",
       "            }\n",
       "            .Relation tr:nth-child(even){\n",
       "                background: #f3f1ff;\n",
       "            }\n",
       "            /* Tooltip container */\n",
       "            .djtooltip {\n",
       "            }\n",
       "            /* Tooltip text */\n",
       "            .djtooltip .djtooltiptext {\n",
       "                visibility: hidden;\n",
       "                width: 120px;\n",
       "                background-color: black;\n",
       "                color: #fff;\n",
       "                text-align: center;\n",
       "                padding: 5px 0;\n",
       "                border-radius: 6px;\n",
       "                /* Position the tooltip text - see examples below! */\n",
       "                position: absolute;\n",
       "                z-index: 1;\n",
       "            }\n",
       "            #primary {\n",
       "                font-weight: bold;\n",
       "                color: black;\n",
       "            }\n",
       "\n",
       "            #nonprimary {\n",
       "                font-weight: normal;\n",
       "                color: white;\n",
       "            }\n",
       "\n",
       "            /* Show the tooltip text when you mouse over the tooltip container */\n",
       "            .djtooltip:hover .djtooltiptext {\n",
       "                visibility: visible;\n",
       "            }\n",
       "        </style>\n",
       "        \n",
       "        <b></b>\n",
       "            <div style=\"max-height:1000px;max-width:1500px;overflow:auto;\">\n",
       "            <table border=\"1\" class=\"Relation\">\n",
       "                <thead> <tr style=\"text-align: right;\"> <th> <div class=\"djtooltip\">\n",
       "                                <p id=\"primary\">configurator</p>\n",
       "                                <span class=\"djtooltiptext\">name of the configuration function</span>\n",
       "                            </div></th><th><div class=\"djtooltip\">\n",
       "                                <p id=\"primary\">config_hash</p>\n",
       "                                <span class=\"djtooltiptext\">hash of the configuration object</span>\n",
       "                            </div></th><th><div class=\"djtooltip\">\n",
       "                                <p id=\"primary\">dataset_loader</p>\n",
       "                                <span class=\"djtooltiptext\">name of the dataset loader function</span>\n",
       "                            </div></th><th><div class=\"djtooltip\">\n",
       "                                <p id=\"primary\">dataset_config_hash</p>\n",
       "                                <span class=\"djtooltiptext\">hash of the configuration object</span>\n",
       "                            </div></th><th><div class=\"djtooltip\">\n",
       "                                <p id=\"primary\">training_function</p>\n",
       "                                <span class=\"djtooltiptext\">name of the Trainer loader function</span>\n",
       "                            </div></th><th><div class=\"djtooltip\">\n",
       "                                <p id=\"primary\">training_config_hash</p>\n",
       "                                <span class=\"djtooltiptext\">hash of the configuration object</span>\n",
       "                            </div></th><th><div class=\"djtooltip\">\n",
       "                                <p id=\"primary\">seed</p>\n",
       "                                <span class=\"djtooltiptext\">Random seed that is passed to the model- and dataset-builder</span>\n",
       "                            </div></th><th><div class=\"djtooltip\">\n",
       "                                <p id=\"nonprimary\">score</p>\n",
       "                                <span class=\"djtooltiptext\">loss</span>\n",
       "                            </div></th><th><div class=\"djtooltip\">\n",
       "                                <p id=\"nonprimary\">output</p>\n",
       "                                <span class=\"djtooltiptext\">trainer object's output</span>\n",
       "                            </div></th><th><div class=\"djtooltip\">\n",
       "                                <p id=\"nonprimary\">architect_name</p>\n",
       "                                <span class=\"djtooltiptext\">Name of the contributor that added this entry</span>\n",
       "                            </div></th><th><div class=\"djtooltip\">\n",
       "                                <p id=\"nonprimary\">trainedmodel_ts</p>\n",
       "                                <span class=\"djtooltiptext\">UTZ timestamp at time of insertion</span>\n",
       "                            </div> </th> </tr> </thead>\n",
       "                <tbody> <tr> <td>nn_setup.models.create_model</td>\n",
       "<td>7da27e2a8c94922f3ac74acfdb0f1867</td>\n",
       "<td>nn_setup.datamaker.create_dataloaders_al</td>\n",
       "<td>019c648dfe4a7579c0c2a8bd27c4722f</td>\n",
       "<td>nn_setup.trainer.train_model</td>\n",
       "<td>d46912607ca7c6872affc84bf5cb1248</td>\n",
       "<td>13</td>\n",
       "<td>0.191024</td>\n",
       "<td>=BLOB=</td>\n",
       "<td>matthias Depoortere</td>\n",
       "<td>2020-01-07 17:46:45</td></tr><tr><td>nn_setup.models.create_model</td>\n",
       "<td>7da27e2a8c94922f3ac74acfdb0f1867</td>\n",
       "<td>nn_setup.datamaker.create_dataloaders_al</td>\n",
       "<td>02ecf6c09088d542aa3ef2cfa889f731</td>\n",
       "<td>nn_setup.trainer.train_model</td>\n",
       "<td>d46912607ca7c6872affc84bf5cb1248</td>\n",
       "<td>13</td>\n",
       "<td>0.238582</td>\n",
       "<td>=BLOB=</td>\n",
       "<td>matthias Depoortere</td>\n",
       "<td>2020-01-08 01:34:07</td></tr><tr><td>nn_setup.models.create_model</td>\n",
       "<td>7da27e2a8c94922f3ac74acfdb0f1867</td>\n",
       "<td>nn_setup.datamaker.create_dataloaders_al</td>\n",
       "<td>0322a23104ac27bb7ea2c77b39555254</td>\n",
       "<td>nn_setup.trainer.train_model</td>\n",
       "<td>d46912607ca7c6872affc84bf5cb1248</td>\n",
       "<td>13</td>\n",
       "<td>0.265227</td>\n",
       "<td>=BLOB=</td>\n",
       "<td>matthias Depoortere</td>\n",
       "<td>2020-01-08 11:52:24</td></tr><tr><td>nn_setup.models.create_model</td>\n",
       "<td>7da27e2a8c94922f3ac74acfdb0f1867</td>\n",
       "<td>nn_setup.datamaker.create_dataloaders_al</td>\n",
       "<td>041f41de06de0c39c9e18bfe42c8e314</td>\n",
       "<td>nn_setup.trainer.train_model</td>\n",
       "<td>d46912607ca7c6872affc84bf5cb1248</td>\n",
       "<td>13</td>\n",
       "<td>0.257383</td>\n",
       "<td>=BLOB=</td>\n",
       "<td>matthias Depoortere</td>\n",
       "<td>2020-01-08 07:08:39</td></tr><tr><td>nn_setup.models.create_model</td>\n",
       "<td>7da27e2a8c94922f3ac74acfdb0f1867</td>\n",
       "<td>nn_setup.datamaker.create_dataloaders_al</td>\n",
       "<td>04446b1f86cbaec8dabf4e4d8dc65731</td>\n",
       "<td>nn_setup.trainer.train_model</td>\n",
       "<td>d46912607ca7c6872affc84bf5cb1248</td>\n",
       "<td>13</td>\n",
       "<td>0.206809</td>\n",
       "<td>=BLOB=</td>\n",
       "<td>matthias Depoortere</td>\n",
       "<td>2020-01-07 19:44:02</td></tr><tr><td>nn_setup.models.create_model</td>\n",
       "<td>7da27e2a8c94922f3ac74acfdb0f1867</td>\n",
       "<td>nn_setup.datamaker.create_dataloaders_al</td>\n",
       "<td>063b7bb8183650ea1ae4b2d42c0f6f57</td>\n",
       "<td>nn_setup.trainer.train_model</td>\n",
       "<td>d46912607ca7c6872affc84bf5cb1248</td>\n",
       "<td>13</td>\n",
       "<td>0.257585</td>\n",
       "<td>=BLOB=</td>\n",
       "<td>matthias Depoortere</td>\n",
       "<td>2020-01-08 08:17:05</td></tr><tr><td>nn_setup.models.create_model</td>\n",
       "<td>7da27e2a8c94922f3ac74acfdb0f1867</td>\n",
       "<td>nn_setup.datamaker.create_dataloaders_al</td>\n",
       "<td>075dd8d4f8bbf7c5a697f0d22858d86f</td>\n",
       "<td>nn_setup.trainer.train_model</td>\n",
       "<td>d46912607ca7c6872affc84bf5cb1248</td>\n",
       "<td>13</td>\n",
       "<td>0.264118</td>\n",
       "<td>=BLOB=</td>\n",
       "<td>matthias Depoortere</td>\n",
       "<td>2020-01-08 10:42:05</td></tr><tr><td>nn_setup.models.create_model</td>\n",
       "<td>7da27e2a8c94922f3ac74acfdb0f1867</td>\n",
       "<td>nn_setup.datamaker.create_dataloaders_al</td>\n",
       "<td>09d8666e5292bb33c899b4edb2e94be9</td>\n",
       "<td>nn_setup.trainer.train_model</td>\n",
       "<td>d46912607ca7c6872affc84bf5cb1248</td>\n",
       "<td>13</td>\n",
       "<td>0.247092</td>\n",
       "<td>=BLOB=</td>\n",
       "<td>matthias Depoortere</td>\n",
       "<td>2020-01-08 02:49:27</td></tr><tr><td>nn_setup.models.create_model</td>\n",
       "<td>7da27e2a8c94922f3ac74acfdb0f1867</td>\n",
       "<td>nn_setup.datamaker.create_dataloaders_al</td>\n",
       "<td>0c8cae991ca7d4810ead0d6e8729cab0</td>\n",
       "<td>nn_setup.trainer.train_model</td>\n",
       "<td>d46912607ca7c6872affc84bf5cb1248</td>\n",
       "<td>13</td>\n",
       "<td>0.239629</td>\n",
       "<td>=BLOB=</td>\n",
       "<td>matthias Depoortere</td>\n",
       "<td>2020-01-08 01:10:11</td></tr><tr><td>nn_setup.models.create_model</td>\n",
       "<td>7da27e2a8c94922f3ac74acfdb0f1867</td>\n",
       "<td>nn_setup.datamaker.create_dataloaders_al</td>\n",
       "<td>0f1f7d942b70334540d3125ba22a5478</td>\n",
       "<td>nn_setup.trainer.train_model</td>\n",
       "<td>d46912607ca7c6872affc84bf5cb1248</td>\n",
       "<td>13</td>\n",
       "<td>0.263056</td>\n",
       "<td>=BLOB=</td>\n",
       "<td>matthias Depoortere</td>\n",
       "<td>2020-01-08 11:24:21</td></tr><tr><td>nn_setup.models.create_model</td>\n",
       "<td>7da27e2a8c94922f3ac74acfdb0f1867</td>\n",
       "<td>nn_setup.datamaker.create_dataloaders_al</td>\n",
       "<td>10bc85ae4855cb7dd340f8239a9372be</td>\n",
       "<td>nn_setup.trainer.train_model</td>\n",
       "<td>d46912607ca7c6872affc84bf5cb1248</td>\n",
       "<td>13</td>\n",
       "<td>0.244658</td>\n",
       "<td>=BLOB=</td>\n",
       "<td>matthias Depoortere</td>\n",
       "<td>2020-01-08 02:11:15</td></tr><tr><td>nn_setup.models.create_model</td>\n",
       "<td>7da27e2a8c94922f3ac74acfdb0f1867</td>\n",
       "<td>nn_setup.datamaker.create_dataloaders_al</td>\n",
       "<td>12f1cdbc8da6a2831cd7d414da16a0ad</td>\n",
       "<td>nn_setup.trainer.train_model</td>\n",
       "<td>d46912607ca7c6872affc84bf5cb1248</td>\n",
       "<td>13</td>\n",
       "<td>0.257372</td>\n",
       "<td>=BLOB=</td>\n",
       "<td>matthias Depoortere</td>\n",
       "<td>2020-01-08 08:56:25</td> </tr> </tbody>\n",
       "            </table>\n",
       "            <p>...</p>\n",
       "            <p>Total: 108</p></div>\n",
       "            "
      ],
      "text/plain": [
       "*configurator  *config_hash   *dataset_loade *dataset_confi *training_func *training_conf *seed    score        output     architect_name trainedmodel_t\n",
       "+------------+ +------------+ +------------+ +------------+ +------------+ +------------+ +------+ +----------+ +--------+ +------------+ +------------+\n",
       "nn_setup.model 7da27e2a8c9492 nn_setup.datam 019c648dfe4a75 nn_setup.train d46912607ca7c6 13       0.191024     =BLOB=     matthias Depoo 2020-01-07 17:\n",
       "nn_setup.model 7da27e2a8c9492 nn_setup.datam 02ecf6c09088d5 nn_setup.train d46912607ca7c6 13       0.238582     =BLOB=     matthias Depoo 2020-01-08 01:\n",
       "nn_setup.model 7da27e2a8c9492 nn_setup.datam 0322a23104ac27 nn_setup.train d46912607ca7c6 13       0.265227     =BLOB=     matthias Depoo 2020-01-08 11:\n",
       "nn_setup.model 7da27e2a8c9492 nn_setup.datam 041f41de06de0c nn_setup.train d46912607ca7c6 13       0.257383     =BLOB=     matthias Depoo 2020-01-08 07:\n",
       "nn_setup.model 7da27e2a8c9492 nn_setup.datam 04446b1f86cbae nn_setup.train d46912607ca7c6 13       0.206809     =BLOB=     matthias Depoo 2020-01-07 19:\n",
       "nn_setup.model 7da27e2a8c9492 nn_setup.datam 063b7bb8183650 nn_setup.train d46912607ca7c6 13       0.257585     =BLOB=     matthias Depoo 2020-01-08 08:\n",
       "nn_setup.model 7da27e2a8c9492 nn_setup.datam 075dd8d4f8bbf7 nn_setup.train d46912607ca7c6 13       0.264118     =BLOB=     matthias Depoo 2020-01-08 10:\n",
       "nn_setup.model 7da27e2a8c9492 nn_setup.datam 09d8666e5292bb nn_setup.train d46912607ca7c6 13       0.247092     =BLOB=     matthias Depoo 2020-01-08 02:\n",
       "nn_setup.model 7da27e2a8c9492 nn_setup.datam 0c8cae991ca7d4 nn_setup.train d46912607ca7c6 13       0.239629     =BLOB=     matthias Depoo 2020-01-08 01:\n",
       "nn_setup.model 7da27e2a8c9492 nn_setup.datam 0f1f7d942b7033 nn_setup.train d46912607ca7c6 13       0.263056     =BLOB=     matthias Depoo 2020-01-08 11:\n",
       "nn_setup.model 7da27e2a8c9492 nn_setup.datam 10bc85ae4855cb nn_setup.train d46912607ca7c6 13       0.244658     =BLOB=     matthias Depoo 2020-01-08 02:\n",
       "nn_setup.model 7da27e2a8c9492 nn_setup.datam 12f1cdbc8da6a2 nn_setup.train d46912607ca7c6 13       0.257372     =BLOB=     matthias Depoo 2020-01-08 08:\n",
       "   ...\n",
       " (Total: 108)"
      ]
     },
     "execution_count": 3,
     "metadata": {},
     "output_type": "execute_result"
    }
   ],
   "source": [
    "TrainedModel()"
   ]
  },
  {
   "cell_type": "code",
   "execution_count": null,
   "metadata": {},
   "outputs": [],
   "source": []
  }
 ],
 "metadata": {
  "kernelspec": {
   "display_name": "Python 3",
   "language": "python",
   "name": "python3"
  },
  "language_info": {
   "codemirror_mode": {
    "name": "ipython",
    "version": 3
   },
   "file_extension": ".py",
   "mimetype": "text/x-python",
   "name": "python",
   "nbconvert_exporter": "python",
   "pygments_lexer": "ipython3",
   "version": "3.7.5"
  }
 },
 "nbformat": 4,
 "nbformat_minor": 4
}
