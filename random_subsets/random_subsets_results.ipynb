{
 "cells": [
  {
   "cell_type": "code",
   "execution_count": 1,
   "metadata": {},
   "outputs": [
    {
     "name": "stdout",
     "output_type": "stream",
     "text": [
      "Connecting mdep@datajoint-db.mlcloud.uni-tuebingen.de:3306\n"
     ]
    }
   ],
   "source": [
    "import os\n",
    "import datajoint as dj\n",
    "dj.config['database.host'] = os.environ['DJ_HOST']\n",
    "dj.config['database.user'] = os.environ['DJ_USERNAME']\n",
    "dj.config['database.password'] = os.environ['DJ_PASSWORD']\n",
    "dj.config['enable_python_native_blobs'] = True\n",
    "schema = dj.schema('mdep_random_subsets', locals())\n",
    "dj.config['schema_name'] = \"mdep_random_subsets\"\n",
    "\n",
    "from nnfabrik.main import *\n",
    "import nnfabrik as nnf\n",
    "\n",
    "#nnf.config['repos'] = ['/notebooks/lib/nnfabrik']"
   ]
  },
  {
   "cell_type": "code",
   "execution_count": 2,
   "metadata": {},
   "outputs": [
    {
     "data": {
      "text/html": [
       "\n",
       "        \n",
       "        <style type=\"text/css\">\n",
       "            .Relation{\n",
       "                border-collapse:collapse;\n",
       "            }\n",
       "            .Relation th{\n",
       "                background: #A0A0A0; color: #ffffff; padding:4px; border:#f0e0e0 1px solid;\n",
       "                font-weight: normal; font-family: monospace; font-size: 100%;\n",
       "            }\n",
       "            .Relation td{\n",
       "                padding:4px; border:#f0e0e0 1px solid; font-size:100%;\n",
       "            }\n",
       "            .Relation tr:nth-child(odd){\n",
       "                background: #ffffff;\n",
       "            }\n",
       "            .Relation tr:nth-child(even){\n",
       "                background: #f3f1ff;\n",
       "            }\n",
       "            /* Tooltip container */\n",
       "            .djtooltip {\n",
       "            }\n",
       "            /* Tooltip text */\n",
       "            .djtooltip .djtooltiptext {\n",
       "                visibility: hidden;\n",
       "                width: 120px;\n",
       "                background-color: black;\n",
       "                color: #fff;\n",
       "                text-align: center;\n",
       "                padding: 5px 0;\n",
       "                border-radius: 6px;\n",
       "                /* Position the tooltip text - see examples below! */\n",
       "                position: absolute;\n",
       "                z-index: 1;\n",
       "            }\n",
       "            #primary {\n",
       "                font-weight: bold;\n",
       "                color: black;\n",
       "            }\n",
       "\n",
       "            #nonprimary {\n",
       "                font-weight: normal;\n",
       "                color: white;\n",
       "            }\n",
       "\n",
       "            /* Show the tooltip text when you mouse over the tooltip container */\n",
       "            .djtooltip:hover .djtooltiptext {\n",
       "                visibility: visible;\n",
       "            }\n",
       "        </style>\n",
       "        \n",
       "        <b></b>\n",
       "            <div style=\"max-height:1000px;max-width:1500px;overflow:auto;\">\n",
       "            <table border=\"1\" class=\"Relation\">\n",
       "                <thead> <tr style=\"text-align: right;\"> <th> <div class=\"djtooltip\">\n",
       "                                <p id=\"primary\">dataset_loader</p>\n",
       "                                <span class=\"djtooltiptext\">name of the dataset loader function</span>\n",
       "                            </div></th><th><div class=\"djtooltip\">\n",
       "                                <p id=\"primary\">dataset_config_hash</p>\n",
       "                                <span class=\"djtooltiptext\">hash of the configuration object</span>\n",
       "                            </div></th><th><div class=\"djtooltip\">\n",
       "                                <p id=\"nonprimary\">dataset_config</p>\n",
       "                                <span class=\"djtooltiptext\">dataset configuration object</span>\n",
       "                            </div></th><th><div class=\"djtooltip\">\n",
       "                                <p id=\"nonprimary\">dataset_architect</p>\n",
       "                                <span class=\"djtooltiptext\">Name of the contributor that added this entry</span>\n",
       "                            </div></th><th><div class=\"djtooltip\">\n",
       "                                <p id=\"nonprimary\">dataset_comment</p>\n",
       "                                <span class=\"djtooltiptext\">short description</span>\n",
       "                            </div></th><th><div class=\"djtooltip\">\n",
       "                                <p id=\"nonprimary\">dataset_ts</p>\n",
       "                                <span class=\"djtooltiptext\">UTZ timestamp at time of insertion</span>\n",
       "                            </div> </th> </tr> </thead>\n",
       "                <tbody> <tr> <td>datamaker.create_dataloaders_al</td>\n",
       "<td>006f365161789c5fcc466ff6bb0107a0</td>\n",
       "<td>=BLOB=</td>\n",
       "<td>Matthias Depoortere</td>\n",
       "<td>Randomly sampled subset</td>\n",
       "<td>2019-12-17 08:38:44</td></tr><tr><td>datamaker.create_dataloaders_al</td>\n",
       "<td>00be3ff89910a27cd1f1e40de63b6bd8</td>\n",
       "<td>=BLOB=</td>\n",
       "<td>Matthias Depoortere</td>\n",
       "<td>Randomly sampled subset</td>\n",
       "<td>2019-12-17 04:23:40</td></tr><tr><td>datamaker.create_dataloaders_al</td>\n",
       "<td>01b4a45ba4047e3390c8df453b97b25c</td>\n",
       "<td>=BLOB=</td>\n",
       "<td>Matthias Depoortere</td>\n",
       "<td>Randomly sampled subset</td>\n",
       "<td>2019-12-17 11:24:06</td></tr><tr><td>datamaker.create_dataloaders_al</td>\n",
       "<td>02374940e11eddaf4d1ace1c6f771812</td>\n",
       "<td>=BLOB=</td>\n",
       "<td>Matthias Depoortere</td>\n",
       "<td>Randomly sampled subset</td>\n",
       "<td>2019-12-16 23:46:58</td></tr><tr><td>datamaker.create_dataloaders_al</td>\n",
       "<td>0b125ef3d037c114bb554f060279459a</td>\n",
       "<td>=BLOB=</td>\n",
       "<td>Matthias Depoortere</td>\n",
       "<td>Randomly sampled subset</td>\n",
       "<td>2019-12-17 03:32:03</td></tr><tr><td>datamaker.create_dataloaders_al</td>\n",
       "<td>0d9bb031f0aa5005842e9b475f142443</td>\n",
       "<td>=BLOB=</td>\n",
       "<td>Matthias Depoortere</td>\n",
       "<td>Randomly sampled subset</td>\n",
       "<td>2019-12-17 06:30:32</td></tr><tr><td>datamaker.create_dataloaders_al</td>\n",
       "<td>0ded98497a0dbe32006877cb7007d2bc</td>\n",
       "<td>=BLOB=</td>\n",
       "<td>Matthias Depoortere</td>\n",
       "<td>Randomly sampled subset</td>\n",
       "<td>2019-12-16 21:11:44</td></tr><tr><td>datamaker.create_dataloaders_al</td>\n",
       "<td>152a9b788070dd4d542409c45810a4c8</td>\n",
       "<td>=BLOB=</td>\n",
       "<td>Matthias Depoortere</td>\n",
       "<td>Randomly sampled subset</td>\n",
       "<td>2019-12-16 23:35:39</td></tr><tr><td>datamaker.create_dataloaders_al</td>\n",
       "<td>170feb8a1ac726cecb7291d4706091dc</td>\n",
       "<td>=BLOB=</td>\n",
       "<td>Matthias Depoortere</td>\n",
       "<td>Randomly sampled subset</td>\n",
       "<td>2019-12-17 00:59:29</td></tr><tr><td>datamaker.create_dataloaders_al</td>\n",
       "<td>1a40b38e83d663214684ca9b901ad682</td>\n",
       "<td>=BLOB=</td>\n",
       "<td>Matthias Depoortere</td>\n",
       "<td>Randomly sampled subset</td>\n",
       "<td>2019-12-17 04:54:02</td></tr><tr><td>datamaker.create_dataloaders_al</td>\n",
       "<td>1ac053852132d0d86afb4392f3830721</td>\n",
       "<td>=BLOB=</td>\n",
       "<td>Matthias Depoortere</td>\n",
       "<td>Randomly sampled subset</td>\n",
       "<td>2019-12-16 19:52:40</td></tr><tr><td>datamaker.create_dataloaders_al</td>\n",
       "<td>1c02f75041784266f5bf0fc8add30a79</td>\n",
       "<td>=BLOB=</td>\n",
       "<td>Matthias Depoortere</td>\n",
       "<td>Randomly sampled subset</td>\n",
       "<td>2019-12-17 05:03:59</td> </tr> </tbody>\n",
       "            </table>\n",
       "            <p>...</p>\n",
       "            <p>Total: 117</p></div>\n",
       "            "
      ],
      "text/plain": [
       "*dataset_loade *dataset_confi dataset_co dataset_archit dataset_commen dataset_ts    \n",
       "+------------+ +------------+ +--------+ +------------+ +------------+ +------------+\n",
       "datamaker.crea 006f365161789c =BLOB=     Matthias Depoo Randomly sampl 2019-12-17 08:\n",
       "datamaker.crea 00be3ff89910a2 =BLOB=     Matthias Depoo Randomly sampl 2019-12-17 04:\n",
       "datamaker.crea 01b4a45ba4047e =BLOB=     Matthias Depoo Randomly sampl 2019-12-17 11:\n",
       "datamaker.crea 02374940e11edd =BLOB=     Matthias Depoo Randomly sampl 2019-12-16 23:\n",
       "datamaker.crea 0b125ef3d037c1 =BLOB=     Matthias Depoo Randomly sampl 2019-12-17 03:\n",
       "datamaker.crea 0d9bb031f0aa50 =BLOB=     Matthias Depoo Randomly sampl 2019-12-17 06:\n",
       "datamaker.crea 0ded98497a0dbe =BLOB=     Matthias Depoo Randomly sampl 2019-12-16 21:\n",
       "datamaker.crea 152a9b788070dd =BLOB=     Matthias Depoo Randomly sampl 2019-12-16 23:\n",
       "datamaker.crea 170feb8a1ac726 =BLOB=     Matthias Depoo Randomly sampl 2019-12-17 00:\n",
       "datamaker.crea 1a40b38e83d663 =BLOB=     Matthias Depoo Randomly sampl 2019-12-17 04:\n",
       "datamaker.crea 1ac053852132d0 =BLOB=     Matthias Depoo Randomly sampl 2019-12-16 19:\n",
       "datamaker.crea 1c02f750417842 =BLOB=     Matthias Depoo Randomly sampl 2019-12-17 05:\n",
       "   ...\n",
       " (Total: 117)"
      ]
     },
     "execution_count": 2,
     "metadata": {},
     "output_type": "execute_result"
    }
   ],
   "source": [
    "Dataset()"
   ]
  },
  {
   "cell_type": "code",
   "execution_count": 5,
   "metadata": {},
   "outputs": [
    {
     "data": {
      "text/plain": [
       "(array([ 1.,  0.,  4., 11., 18., 32., 21., 16., 10.,  3.]),\n",
       " array([0.197293 , 0.1989416, 0.2005902, 0.2022388, 0.2038874, 0.205536 ,\n",
       "        0.2071846, 0.2088332, 0.2104818, 0.2121304, 0.213779 ]),\n",
       " <a list of 10 Patch objects>)"
      ]
     },
     "execution_count": 5,
     "metadata": {},
     "output_type": "execute_result"
    },
    {
     "data": {
      "image/png": "[encoded data removed]",
      "text/plain": [
       "<Figure size 432x288 with 1 Axes>"
      ]
     },
     "metadata": {
      "needs_background": "light"
     },
     "output_type": "display_data"
    }
   ],
   "source": [
    "plt.hist(TrainedModel().fetch('score'))"
   ]
  },
  {
   "cell_type": "code",
   "execution_count": 4,
   "metadata": {},
   "outputs": [],
   "source": [
    "import matplotlib.pyplot as plt"
   ]
  },
  {
   "cell_type": "code",
   "execution_count": null,
   "metadata": {},
   "outputs": [],
   "source": []
  }
 ],
 "metadata": {
  "kernelspec": {
   "display_name": "Python 3",
   "language": "python",
   "name": "python3"
  },
  "language_info": {
   "codemirror_mode": {
    "name": "ipython",
    "version": 3
   },
   "file_extension": ".py",
   "mimetype": "text/x-python",
   "name": "python",
   "nbconvert_exporter": "python",
   "pygments_lexer": "ipython3",
   "version": "3.7.5"
  }
 },
 "nbformat": 4,
 "nbformat_minor": 4
}
